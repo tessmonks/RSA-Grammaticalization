{
 "cells": [
  {
   "cell_type": "markdown",
   "id": "00d9bfc1",
   "metadata": {},
   "source": [
    "# Python RSA Implementation of Demonstrative Pronouns\n",
    "### Using the RSA Python model from Frank and Goodman (2012) and Lund et al. (2019) to model semantic extension in English demonstrative pronouns"
   ]
  },
  {
   "cell_type": "code",
   "execution_count": 1,
   "id": "ebbbc36c",
   "metadata": {},
   "outputs": [],
   "source": [
    "import numpy as np\n",
    "import pandas as pd"
   ]
  },
  {
   "cell_type": "markdown",
   "id": "d12e3cfb",
   "metadata": {},
   "source": [
    "Setting the reference areas, utterances, and probabilities for each in the model. For the time being, the probabilities are uniform for both locations, though this may change by context."
   ]
  },
  {
   "cell_type": "code",
   "execution_count": 39,
   "id": "a76ac35c",
   "metadata": {},
   "outputs": [],
   "source": [
    "# Set the location possibilities for reference\n",
    "locations = [\"proximal\", \"distal\"]"
   ]
  },
  {
   "cell_type": "code",
   "execution_count": 3,
   "id": "b873b651",
   "metadata": {},
   "outputs": [],
   "source": [
    "# Set the possible pronouns in the utterance\n",
    "utterances = [\"this\", \"that\"]"
   ]
  },
  {
   "cell_type": "code",
   "execution_count": 5,
   "id": "c1b3d9b1",
   "metadata": {},
   "outputs": [],
   "source": [
    "# Set the probabilities for the locations as a uniform probability for reference in each state\n",
    "# This may change as languages and contexts have different understandings of the field that refers to proximal and field that refers to distal\n",
    "def uniform_probs():\n",
    "    return pd.Series(np.ones(len(locations))/len(locations), index=locations)"
   ]
  },
  {
   "cell_type": "code",
   "execution_count": 6,
   "id": "5b36862f",
   "metadata": {},
   "outputs": [
    {
     "data": {
      "text/plain": [
       "proximal    0.5\n",
       "distal      0.5\n",
       "dtype: float64"
      ]
     },
     "execution_count": 6,
     "metadata": {},
     "output_type": "execute_result"
    }
   ],
   "source": [
    "uniform_probs()"
   ]
  },
  {
   "cell_type": "markdown",
   "id": "8dc7c4f6",
   "metadata": {},
   "source": [
    "### Costs and Prior\n",
    "To accurately model the diachronic semantic change, we can change the costs for each demonstrative. This is backed by experimental data collected in Monks & Davidson (2021) such that the proximal is more marked, and therefore more \"costly\" than the distal. \n",
    "\n",
    "The utterance prior is only used to show how the costs influence the prior, but is not implemented later on. \n",
    "\n",
    "Alpha is actor optimality."
   ]
  },
  {
   "cell_type": "code",
   "execution_count": 102,
   "id": "d0a25db5",
   "metadata": {},
   "outputs": [],
   "source": [
    "costs = {\"this\": 2.1877, \n",
    "        \"that\": 2}\n",
    "\n",
    "def cost(utterance):\n",
    "    return costs[utterance]\n",
    "\n",
    "alpha = 1"
   ]
  },
  {
   "cell_type": "code",
   "execution_count": 103,
   "id": "8f84cc5a",
   "metadata": {},
   "outputs": [],
   "source": [
    "# Only used as an illustration, not in the model\n",
    "def utterance_prior():\n",
    "    probs = list(map(lambda x:np.exp(-costs[x]), utterances))\n",
    "    return pd.Series(probs / np.sum(probs), index = utterances)"
   ]
  },
  {
   "cell_type": "code",
   "execution_count": 104,
   "id": "d60feb53",
   "metadata": {},
   "outputs": [
    {
     "data": {
      "text/plain": [
       "this    0.453212\n",
       "that    0.546788\n",
       "dtype: float64"
      ]
     },
     "execution_count": 104,
     "metadata": {},
     "output_type": "execute_result"
    }
   ],
   "source": [
    "utterance_prior()"
   ]
  },
  {
   "cell_type": "markdown",
   "id": "314308fb",
   "metadata": {},
   "source": [
    "### Meaning Function\n",
    "\n",
    "For a given utterance, returns true or false and the location of the item as marked in the [+prox] feature for the proximal"
   ]
  },
  {
   "cell_type": "code",
   "execution_count": 105,
   "id": "6151fe45",
   "metadata": {},
   "outputs": [],
   "source": [
    "# Meaning function reflects that the proximal is marked for location and the distal is unmarked for location\n",
    "def meaning(utterance, location):\n",
    "    if utterance == 'this':\n",
    "        if location == 'proximal':\n",
    "            return True\n",
    "    elif utterance == 'that':\n",
    "        if location in ['proximal', 'distal']:\n",
    "            return True\n",
    "    else:\n",
    "        return False"
   ]
  },
  {
   "cell_type": "markdown",
   "id": "f8ceb139",
   "metadata": {},
   "source": [
    "### Literal Listener\n",
    "\n",
    "Returns a probability distribution over locations for a given utterance."
   ]
  },
  {
   "cell_type": "code",
   "execution_count": 106,
   "id": "99d6dd9c",
   "metadata": {},
   "outputs": [],
   "source": [
    "# Returns a distribution over locations\n",
    "def literal_listener(utterance):\n",
    "    truth_values = np.array(list(map(lambda x:meaning(utterance, x), locations)))\n",
    "    return truth_values * uniform_probs() / pd.Series.sum(truth_values * uniform_probs())"
   ]
  },
  {
   "cell_type": "code",
   "execution_count": 107,
   "id": "eee30dd4",
   "metadata": {},
   "outputs": [],
   "source": [
    "def L1_wrapper():\n",
    "    return (pd.DataFrame({k:literal_listener(k) for k in utterances})).fillna(0)"
   ]
  },
  {
   "cell_type": "code",
   "execution_count": 108,
   "id": "5421bf1f",
   "metadata": {},
   "outputs": [
    {
     "data": {
      "text/html": [
       "<div>\n",
       "<style scoped>\n",
       "    .dataframe tbody tr th:only-of-type {\n",
       "        vertical-align: middle;\n",
       "    }\n",
       "\n",
       "    .dataframe tbody tr th {\n",
       "        vertical-align: top;\n",
       "    }\n",
       "\n",
       "    .dataframe thead th {\n",
       "        text-align: right;\n",
       "    }\n",
       "</style>\n",
       "<table border=\"1\" class=\"dataframe\">\n",
       "  <thead>\n",
       "    <tr style=\"text-align: right;\">\n",
       "      <th></th>\n",
       "      <th>this</th>\n",
       "      <th>that</th>\n",
       "    </tr>\n",
       "  </thead>\n",
       "  <tbody>\n",
       "    <tr>\n",
       "      <th>proximal</th>\n",
       "      <td>1.0</td>\n",
       "      <td>0.5</td>\n",
       "    </tr>\n",
       "    <tr>\n",
       "      <th>distal</th>\n",
       "      <td>0.0</td>\n",
       "      <td>0.5</td>\n",
       "    </tr>\n",
       "  </tbody>\n",
       "</table>\n",
       "</div>"
      ],
      "text/plain": [
       "          this  that\n",
       "proximal   1.0   0.5\n",
       "distal     0.0   0.5"
      ]
     },
     "execution_count": 108,
     "metadata": {},
     "output_type": "execute_result"
    }
   ],
   "source": [
    "L1_wrapper()"
   ]
  },
  {
   "cell_type": "markdown",
   "id": "0f924680",
   "metadata": {},
   "source": [
    "### Pragmatic Speaker\n",
    "\n",
    "Returns a distribution over utterances for a given location"
   ]
  },
  {
   "cell_type": "code",
   "execution_count": 109,
   "id": "7aeba25c",
   "metadata": {},
   "outputs": [],
   "source": [
    "def utility(L1_probs):\n",
    "    return L1_probs.apply(lambda x:np.exp(alpha * np.log(x) - cost(x.name)))"
   ]
  },
  {
   "cell_type": "code",
   "execution_count": 110,
   "id": "587043d9",
   "metadata": {},
   "outputs": [],
   "source": [
    "def speaker():\n",
    "    L1 = L1_wrapper()\n",
    "    return utility(L1).apply(lambda x:x / np.sum(x), axis = 1)"
   ]
  },
  {
   "cell_type": "code",
   "execution_count": 111,
   "id": "c7adf677",
   "metadata": {},
   "outputs": [
    {
     "name": "stderr",
     "output_type": "stream",
     "text": [
      "/Users/tessmonks/opt/anaconda3/envs/cs187/lib/python3.8/site-packages/pandas/core/arraylike.py:364: RuntimeWarning: divide by zero encountered in log\n",
      "  result = getattr(ufunc, method)(*inputs, **kwargs)\n"
     ]
    },
    {
     "data": {
      "text/html": [
       "<div>\n",
       "<style scoped>\n",
       "    .dataframe tbody tr th:only-of-type {\n",
       "        vertical-align: middle;\n",
       "    }\n",
       "\n",
       "    .dataframe tbody tr th {\n",
       "        vertical-align: top;\n",
       "    }\n",
       "\n",
       "    .dataframe thead th {\n",
       "        text-align: right;\n",
       "    }\n",
       "</style>\n",
       "<table border=\"1\" class=\"dataframe\">\n",
       "  <thead>\n",
       "    <tr style=\"text-align: right;\">\n",
       "      <th></th>\n",
       "      <th>this</th>\n",
       "      <th>that</th>\n",
       "    </tr>\n",
       "  </thead>\n",
       "  <tbody>\n",
       "    <tr>\n",
       "      <th>proximal</th>\n",
       "      <td>0.623739</td>\n",
       "      <td>0.376261</td>\n",
       "    </tr>\n",
       "    <tr>\n",
       "      <th>distal</th>\n",
       "      <td>0.000000</td>\n",
       "      <td>1.000000</td>\n",
       "    </tr>\n",
       "  </tbody>\n",
       "</table>\n",
       "</div>"
      ],
      "text/plain": [
       "              this      that\n",
       "proximal  0.623739  0.376261\n",
       "distal    0.000000  1.000000"
      ]
     },
     "execution_count": 111,
     "metadata": {},
     "output_type": "execute_result"
    }
   ],
   "source": [
    "speaker()"
   ]
  },
  {
   "cell_type": "markdown",
   "id": "60bb6c77",
   "metadata": {},
   "source": [
    "### Pragmatic Listener\n",
    "\n",
    "Returns a distribution over objects for a given utterance."
   ]
  },
  {
   "cell_type": "code",
   "execution_count": 112,
   "id": "7fb88efe",
   "metadata": {},
   "outputs": [],
   "source": [
    "def pragmatic_listener():\n",
    "    S1 = speaker()\n",
    "    return S1.transpose().apply(lambda x: x * uniform_probs() / np.sum(x * uniform_probs()), axis = 1)"
   ]
  },
  {
   "cell_type": "code",
   "execution_count": 113,
   "id": "b83a92a7",
   "metadata": {},
   "outputs": [
    {
     "name": "stderr",
     "output_type": "stream",
     "text": [
      "/Users/tessmonks/opt/anaconda3/envs/cs187/lib/python3.8/site-packages/pandas/core/arraylike.py:364: RuntimeWarning: divide by zero encountered in log\n",
      "  result = getattr(ufunc, method)(*inputs, **kwargs)\n"
     ]
    },
    {
     "data": {
      "text/html": [
       "<div>\n",
       "<style scoped>\n",
       "    .dataframe tbody tr th:only-of-type {\n",
       "        vertical-align: middle;\n",
       "    }\n",
       "\n",
       "    .dataframe tbody tr th {\n",
       "        vertical-align: top;\n",
       "    }\n",
       "\n",
       "    .dataframe thead th {\n",
       "        text-align: right;\n",
       "    }\n",
       "</style>\n",
       "<table border=\"1\" class=\"dataframe\">\n",
       "  <thead>\n",
       "    <tr style=\"text-align: right;\">\n",
       "      <th></th>\n",
       "      <th>proximal</th>\n",
       "      <th>distal</th>\n",
       "    </tr>\n",
       "  </thead>\n",
       "  <tbody>\n",
       "    <tr>\n",
       "      <th>this</th>\n",
       "      <td>1.000000</td>\n",
       "      <td>0.000000</td>\n",
       "    </tr>\n",
       "    <tr>\n",
       "      <th>that</th>\n",
       "      <td>0.273394</td>\n",
       "      <td>0.726606</td>\n",
       "    </tr>\n",
       "  </tbody>\n",
       "</table>\n",
       "</div>"
      ],
      "text/plain": [
       "      proximal    distal\n",
       "this  1.000000  0.000000\n",
       "that  0.273394  0.726606"
      ]
     },
     "execution_count": 113,
     "metadata": {},
     "output_type": "execute_result"
    }
   ],
   "source": [
    "pragmatic_listener()"
   ]
  }
 ],
 "metadata": {
  "kernelspec": {
   "display_name": "Python 3 (ipykernel)",
   "language": "python",
   "name": "python3"
  },
  "language_info": {
   "codemirror_mode": {
    "name": "ipython",
    "version": 3
   },
   "file_extension": ".py",
   "mimetype": "text/x-python",
   "name": "python",
   "nbconvert_exporter": "python",
   "pygments_lexer": "ipython3",
   "version": "3.8.11"
  }
 },
 "nbformat": 4,
 "nbformat_minor": 5
}
